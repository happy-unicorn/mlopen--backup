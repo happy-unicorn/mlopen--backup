{
 "cells": [
  {
   "cell_type": "code",
   "execution_count": 1,
   "metadata": {},
   "outputs": [],
   "source": [
    "import warnings\n",
    "import os\n",
    "import json\n",
    "import datetime\n",
    "import functools as fn\n",
    "import collections as cc\n",
    "import pandas as pd\n",
    "import numpy as np\n",
    "import scipy as sp\n",
    "import seaborn as sns\n",
    "from matplotlib import pyplot as plt\n",
    "from sklearn.model_selection import cross_val_score, GridSearchCV, StratifiedKFold, ShuffleSplit, KFold, train_test_split\n",
    "from sklearn.metrics import accuracy_score, roc_auc_score\n",
    "from sklearn.linear_model import LogisticRegression\n",
    "from sklearn.ensemble import RandomForestClassifier\n",
    "from catboost import CatBoostClassifier\n",
    "\n",
    "%matplotlib inline\n",
    "pd.set_option('display.max_columns', 250)\n",
    "warnings.filterwarnings('ignore')"
   ]
  },
  {
   "cell_type": "code",
   "execution_count": 2,
   "metadata": {},
   "outputs": [],
   "source": [
    "train_features = pd.read_csv('./train_features.csv')\n",
    "train_targets = pd.read_csv('./train_targets.csv')\n",
    "test_features = pd.read_csv('./test_features.csv')"
   ]
  },
  {
   "cell_type": "code",
   "execution_count": 3,
   "metadata": {},
   "outputs": [],
   "source": [
    "X_train = train_features.iloc[:, 1:]\n",
    "y_train = train_targets['radiant_win'].astype('int')\n",
    "X_test = test_features.iloc[:, 1:]"
   ]
  },
  {
   "cell_type": "code",
   "execution_count": 4,
   "metadata": {},
   "outputs": [],
   "source": [
    "def complex_holdout_score(y, prediction):\n",
    "    a_score = accuracy_score(y, prediction > 0.5)\n",
    "    ra_score = roc_auc_score(y, prediction)\n",
    "    print('Accuracy score(holdout): ', str(a_score))\n",
    "    print('ROC AUC score(holdout): ', str(ra_score))\n",
    "    return {'Accuracy': a_score, 'ROC AUC': ra_score}\n",
    "\n",
    "\n",
    "def complex_cv_score(cv_score):\n",
    "    cv_mean = cv_score.mean()\n",
    "    cv_std = cv_score.std()\n",
    "    print('ROC AUC mean score(cv): ', str(cv_mean))\n",
    "    print('ROC AUC score std(cv): ', str(cv_std))\n",
    "    return cv_mean, cv_std\n",
    "\n",
    "\n",
    "def compare_cv_scores(score_1, score_2):\n",
    "    return score_2 > score_1\n",
    "\n",
    "\n",
    "try:\n",
    "    import ujson as json\n",
    "except ModuleNotFoundError:\n",
    "    import json\n",
    "    print ('Please install ujson to read JSON oblects faster')\n",
    "    \n",
    "try:\n",
    "    from tqdm import tqdm_notebook\n",
    "except ModuleNotFoundError:\n",
    "    tqdm_notebook = lambda x: x\n",
    "    print ('Please install tqdm to track progress with Python loops')\n",
    "\n",
    "    \n",
    "def read_matches(matches_file):\n",
    "    MATCHES_COUNT = {\n",
    "        'test_matches.jsonl': 10000,\n",
    "        'train_matches.jsonl': 39675,\n",
    "    }\n",
    "    _, filename = os.path.split(matches_file)\n",
    "    total_matches = MATCHES_COUNT.get(filename)\n",
    "    \n",
    "    with open(matches_file) as fin:\n",
    "        for line in tqdm_notebook(fin, total=total_matches):\n",
    "            yield json.loads(line)\n",
    "            \n",
    "def write_to_submission_file(predicted_labels, out_file, target='radiant_win_prob', index_label='match_id_hash'):\n",
    "    predicted_df = pd.DataFrame(predicted_labels, index=test_features.iloc[:, 0], columns=[target])\n",
    "    predicted_df.to_csv(out_file, index_label=index_label)"
   ]
  },
  {
   "cell_type": "code",
   "execution_count": 5,
   "metadata": {},
   "outputs": [],
   "source": [
    "def get_coefficients(model, model_type, data):\n",
    "    coefs = None\n",
    "    if model_type == 'lr':\n",
    "        coefs = pd.DataFrame(model.coef_.T, data.columns)\n",
    "        coefs.columns = [\"coef\"]\n",
    "        coefs[\"abs\"] = coefs.coef.apply(np.abs)\n",
    "        coefs = coefs.sort_values(by=\"abs\", ascending=False).drop([\"abs\"], axis=1)    \n",
    "    if model_type == 'cb':\n",
    "        coefs = pd.DataFrame({'feature_name': data.columns, 'importance': model.feature_importances_})\n",
    "        coefs.sort_values(by=['importance'], inplace=True, ascending=False)\n",
    "    \n",
    "    return coefs"
   ]
  },
  {
   "cell_type": "code",
   "execution_count": 6,
   "metadata": {},
   "outputs": [],
   "source": [
    "def model_encoder(code):\n",
    "    if code == 'lr':\n",
    "        return 'logistic regression(sklearn)'\n",
    "    elif code == 'rf':\n",
    "        return 'random forest(sklearn)'\n",
    "    elif code == 'cb':\n",
    "        return 'gradient boosting(Catboost)'\n",
    "    \n",
    "    \n",
    "def train_model(X, y, model_type='lr', params={}, test_size=0.3, cv=None, model=None, gs=False, gs_params={}, random_state=1):\n",
    "    print('Selected model type: {}'.format(model_encoder(model_type)))\n",
    "    \n",
    "    if cv == None:\n",
    "        cv = StratifiedKFold(n_splits=5, shuffle=True, random_state=random_state)    \n",
    "    X_train, X_valid, y_train, y_valid = train_test_split(X, y, test_size=test_size, random_state=random_state)\n",
    "    \n",
    "    if gs:\n",
    "        pass\n",
    "    \n",
    "    cv_score = None\n",
    "    cv_mean = None\n",
    "    holdout_score = None\n",
    "    coefs = 0\n",
    "    if model_type == 'lr':\n",
    "        model = LogisticRegression(random_state=random_state, solver='liblinear', **params)\n",
    "        model.fit(X_train, y_train)\n",
    "        prediction = model.predict_proba(X_valid)[:, 1]\n",
    "        holdout_score = complex_holdout_score(y_valid, prediction)\n",
    "        cv_score = cross_val_score(model, X, y, cv=cv, scoring='roc_auc', n_jobs=-1)\n",
    "        cv_mean, cv_std = complex_cv_score(cv_score)\n",
    "        coefs = get_coefficients(model, model_type, X_train)\n",
    "    if model_type == 'cb':\n",
    "        model = CatBoostClassifier(random_seed=random_state, silent=True, **params)\n",
    "        model.fit(X_train, y_train);\n",
    "        prediction = model.predict_proba(X_valid)[:, 1]\n",
    "        holdout_score = complex_holdout_score(y_valid, prediction)\n",
    "        cv_score = cross_val_score(model, X, y, cv=cv, scoring='roc_auc', n_jobs=-1)\n",
    "        cv_mean, cv_std = complex_cv_score(cv_score)\n",
    "        coefs = get_coefficients(model, model_type, X_train)\n",
    "    \n",
    "    return holdout_score, cv_score, coefs"
   ]
  },
  {
   "cell_type": "code",
   "execution_count": 7,
   "metadata": {},
   "outputs": [],
   "source": [
    "def add_new_features(df_features, matches_file):\n",
    "    radiant_tower_kills = []\n",
    "    dire_tower_kills = []\n",
    "    for match in read_matches(matches_file):\n",
    "        tmp_radiant_tower_kills = 0\n",
    "        tmp_dire_tower_kills = 0\n",
    "        for objective in match['objectives']:\n",
    "            if objective['type'] == 'CHAT_MESSAGE_TOWER_KILL':\n",
    "                if objective['team'] == 2:\n",
    "                    tmp_radiant_tower_kills += 1\n",
    "                if objective['team'] == 3:\n",
    "                    tmp_dire_tower_kills += 1\n",
    "        radiant_tower_kills.append(tmp_radiant_tower_kills)\n",
    "        dire_tower_kills.append(tmp_dire_tower_kills)\n",
    "        \n",
    "    df_features['radiant_tower_kills'] = radiant_tower_kills\n",
    "    df_features['dire_tower_kills'] = dire_tower_kills\n",
    "    df_features['diff_tower_kills'] = df_features['radiant_tower_kills'] - df_features['dire_tower_kills']"
   ]
  },
  {
   "cell_type": "code",
   "execution_count": 8,
   "metadata": {},
   "outputs": [
    {
     "data": {
      "application/vnd.jupyter.widget-view+json": {
       "model_id": "743b7914d2c1479fbaf476b46342c256",
       "version_major": 2,
       "version_minor": 0
      },
      "text/plain": [
       "HBox(children=(IntProgress(value=0, max=39675), HTML(value='')))"
      ]
     },
     "metadata": {},
     "output_type": "display_data"
    },
    {
     "name": "stdout",
     "output_type": "stream",
     "text": [
      "\n"
     ]
    },
    {
     "data": {
      "application/vnd.jupyter.widget-view+json": {
       "model_id": "7aba756491664b18a06ea6c2e019fc33",
       "version_major": 2,
       "version_minor": 0
      },
      "text/plain": [
       "HBox(children=(IntProgress(value=0, max=10000), HTML(value='')))"
      ]
     },
     "metadata": {},
     "output_type": "display_data"
    },
    {
     "name": "stdout",
     "output_type": "stream",
     "text": [
      "\n"
     ]
    }
   ],
   "source": [
    "add_new_features(X_train, 'train_matches.jsonl')\n",
    "add_new_features(X_test, 'test_matches.jsonl')"
   ]
  },
  {
   "cell_type": "code",
   "execution_count": 9,
   "metadata": {},
   "outputs": [],
   "source": [
    "gold_df = pd.DataFrame()\n",
    "r_columns = [f'r{i}_gold' for i in range(1, 6)]\n",
    "d_columns = [f'd{i}_gold' for i in range(1, 6)]\n",
    "\n",
    "gold_df['r_total_gold'] = train_features[r_columns].sum(1)\n",
    "gold_df['d_total_gold'] = train_features[d_columns].sum(1)\n",
    "gold_df['total_gold_ratio'] = gold_df['r_total_gold'] / gold_df['d_total_gold']\n",
    "gold_df = gold_df.fillna(0)"
   ]
  },
  {
   "cell_type": "code",
   "execution_count": 10,
   "metadata": {},
   "outputs": [],
   "source": [
    "X_train = pd.concat([X_train, gold_df.loc[:, ['total_gold_ratio']]], axis=1)"
   ]
  },
  {
   "cell_type": "code",
   "execution_count": 11,
   "metadata": {},
   "outputs": [],
   "source": [
    "gold_df = pd.DataFrame()\n",
    "r_columns = [f'r{i}_gold' for i in range(1, 6)]\n",
    "d_columns = [f'd{i}_gold' for i in range(1, 6)]\n",
    "\n",
    "gold_df['r_total_gold'] = test_features[r_columns].sum(1)\n",
    "gold_df['d_total_gold'] = test_features[d_columns].sum(1)\n",
    "gold_df['total_gold_ratio'] = gold_df['r_total_gold'] / gold_df['d_total_gold']\n",
    "gold_df = gold_df.fillna(0)"
   ]
  },
  {
   "cell_type": "code",
   "execution_count": 12,
   "metadata": {},
   "outputs": [],
   "source": [
    "X_test = pd.concat([X_test, gold_df.loc[:, ['total_gold_ratio']]], axis=1)"
   ]
  },
  {
   "cell_type": "code",
   "execution_count": 13,
   "metadata": {},
   "outputs": [],
   "source": [
    "xp_df = pd.DataFrame()\n",
    "r_columns = [f'r{i}_xp' for i in range(1, 6)]\n",
    "d_columns = [f'd{i}_xp' for i in range(1, 6)]\n",
    "\n",
    "xp_df['r_total_xp'] = train_features[r_columns].sum(1)\n",
    "xp_df['d_total_xp'] = train_features[d_columns].sum(1)\n",
    "xp_df['total_xp_ratio'] = xp_df['r_total_xp'] / xp_df['d_total_xp']\n",
    "xp_df = xp_df.fillna(0)"
   ]
  },
  {
   "cell_type": "code",
   "execution_count": 14,
   "metadata": {},
   "outputs": [],
   "source": [
    "X_train = pd.concat([X_train, xp_df.loc[:, ['total_xp_ratio']]], axis=1)"
   ]
  },
  {
   "cell_type": "code",
   "execution_count": 15,
   "metadata": {},
   "outputs": [],
   "source": [
    "xp_df = pd.DataFrame()\n",
    "r_columns = [f'r{i}_xp' for i in range(1, 6)]\n",
    "d_columns = [f'd{i}_xp' for i in range(1, 6)]\n",
    "\n",
    "xp_df['r_total_xp'] = test_features[r_columns].sum(1)\n",
    "xp_df['d_total_xp'] = test_features[d_columns].sum(1)\n",
    "xp_df['total_xp_ratio'] = xp_df['r_total_xp'] / xp_df['d_total_xp']\n",
    "xp_df = xp_df.fillna(0)"
   ]
  },
  {
   "cell_type": "code",
   "execution_count": 16,
   "metadata": {},
   "outputs": [],
   "source": [
    "X_test = pd.concat([X_test, xp_df.loc[:, ['total_xp_ratio']]], axis=1)"
   ]
  },
  {
   "cell_type": "code",
   "execution_count": 17,
   "metadata": {},
   "outputs": [
    {
     "name": "stdout",
     "output_type": "stream",
     "text": [
      "Selected model type: gradient boosting(Catboost)\n",
      "Accuracy score(holdout):  0.7279677392254054\n",
      "ROC AUC score(holdout):  0.8188527025218526\n",
      "ROC AUC mean score(cv):  0.8240870216069741\n",
      "ROC AUC score std(cv):  0.0019844209121544195\n",
      "CPU times: user 3min 15s, sys: 8.64 s, total: 3min 23s\n",
      "Wall time: 2min 32s\n"
     ]
    },
    {
     "data": {
      "text/html": [
       "<div>\n",
       "<style scoped>\n",
       "    .dataframe tbody tr th:only-of-type {\n",
       "        vertical-align: middle;\n",
       "    }\n",
       "\n",
       "    .dataframe tbody tr th {\n",
       "        vertical-align: top;\n",
       "    }\n",
       "\n",
       "    .dataframe thead th {\n",
       "        text-align: right;\n",
       "    }\n",
       "</style>\n",
       "<table border=\"1\" class=\"dataframe\">\n",
       "  <thead>\n",
       "    <tr style=\"text-align: right;\">\n",
       "      <th></th>\n",
       "      <th>feature_name</th>\n",
       "      <th>importance</th>\n",
       "    </tr>\n",
       "  </thead>\n",
       "  <tbody>\n",
       "    <tr>\n",
       "      <th>248</th>\n",
       "      <td>total_gold_ratio</td>\n",
       "      <td>12.376007</td>\n",
       "    </tr>\n",
       "    <tr>\n",
       "      <th>249</th>\n",
       "      <td>total_xp_ratio</td>\n",
       "      <td>6.476346</td>\n",
       "    </tr>\n",
       "    <tr>\n",
       "      <th>247</th>\n",
       "      <td>diff_tower_kills</td>\n",
       "      <td>2.574544</td>\n",
       "    </tr>\n",
       "    <tr>\n",
       "      <th>149</th>\n",
       "      <td>d2_hero_id</td>\n",
       "      <td>1.231482</td>\n",
       "    </tr>\n",
       "    <tr>\n",
       "      <th>246</th>\n",
       "      <td>dire_tower_kills</td>\n",
       "      <td>1.166449</td>\n",
       "    </tr>\n",
       "    <tr>\n",
       "      <th>101</th>\n",
       "      <td>r5_hero_id</td>\n",
       "      <td>1.096733</td>\n",
       "    </tr>\n",
       "    <tr>\n",
       "      <th>183</th>\n",
       "      <td>d3_max_mana</td>\n",
       "      <td>1.081994</td>\n",
       "    </tr>\n",
       "    <tr>\n",
       "      <th>77</th>\n",
       "      <td>r4_hero_id</td>\n",
       "      <td>1.064837</td>\n",
       "    </tr>\n",
       "    <tr>\n",
       "      <th>53</th>\n",
       "      <td>r3_hero_id</td>\n",
       "      <td>1.051830</td>\n",
       "    </tr>\n",
       "    <tr>\n",
       "      <th>173</th>\n",
       "      <td>d3_hero_id</td>\n",
       "      <td>1.023840</td>\n",
       "    </tr>\n",
       "    <tr>\n",
       "      <th>109</th>\n",
       "      <td>r5_health</td>\n",
       "      <td>1.011387</td>\n",
       "    </tr>\n",
       "    <tr>\n",
       "      <th>221</th>\n",
       "      <td>d5_hero_id</td>\n",
       "      <td>1.008235</td>\n",
       "    </tr>\n",
       "    <tr>\n",
       "      <th>125</th>\n",
       "      <td>d1_hero_id</td>\n",
       "      <td>0.976889</td>\n",
       "    </tr>\n",
       "    <tr>\n",
       "      <th>181</th>\n",
       "      <td>d3_health</td>\n",
       "      <td>0.975797</td>\n",
       "    </tr>\n",
       "    <tr>\n",
       "      <th>197</th>\n",
       "      <td>d4_hero_id</td>\n",
       "      <td>0.955869</td>\n",
       "    </tr>\n",
       "    <tr>\n",
       "      <th>5</th>\n",
       "      <td>r1_hero_id</td>\n",
       "      <td>0.926986</td>\n",
       "    </tr>\n",
       "    <tr>\n",
       "      <th>245</th>\n",
       "      <td>radiant_tower_kills</td>\n",
       "      <td>0.814636</td>\n",
       "    </tr>\n",
       "    <tr>\n",
       "      <th>120</th>\n",
       "      <td>r5_teamfight_participation</td>\n",
       "      <td>0.804753</td>\n",
       "    </tr>\n",
       "    <tr>\n",
       "      <th>210</th>\n",
       "      <td>d4_y</td>\n",
       "      <td>0.799093</td>\n",
       "    </tr>\n",
       "    <tr>\n",
       "      <th>133</th>\n",
       "      <td>d1_health</td>\n",
       "      <td>0.795358</td>\n",
       "    </tr>\n",
       "    <tr>\n",
       "      <th>205</th>\n",
       "      <td>d4_health</td>\n",
       "      <td>0.782024</td>\n",
       "    </tr>\n",
       "    <tr>\n",
       "      <th>185</th>\n",
       "      <td>d3_x</td>\n",
       "      <td>0.760159</td>\n",
       "    </tr>\n",
       "    <tr>\n",
       "      <th>159</th>\n",
       "      <td>d2_max_mana</td>\n",
       "      <td>0.753604</td>\n",
       "    </tr>\n",
       "    <tr>\n",
       "      <th>86</th>\n",
       "      <td>r4_max_health</td>\n",
       "      <td>0.749680</td>\n",
       "    </tr>\n",
       "    <tr>\n",
       "      <th>135</th>\n",
       "      <td>d1_max_mana</td>\n",
       "      <td>0.746288</td>\n",
       "    </tr>\n",
       "    <tr>\n",
       "      <th>207</th>\n",
       "      <td>d4_max_mana</td>\n",
       "      <td>0.739891</td>\n",
       "    </tr>\n",
       "    <tr>\n",
       "      <th>157</th>\n",
       "      <td>d2_health</td>\n",
       "      <td>0.731751</td>\n",
       "    </tr>\n",
       "    <tr>\n",
       "      <th>179</th>\n",
       "      <td>d3_lh</td>\n",
       "      <td>0.708996</td>\n",
       "    </tr>\n",
       "    <tr>\n",
       "      <th>61</th>\n",
       "      <td>r3_health</td>\n",
       "      <td>0.708118</td>\n",
       "    </tr>\n",
       "    <tr>\n",
       "      <th>87</th>\n",
       "      <td>r4_max_mana</td>\n",
       "      <td>0.666454</td>\n",
       "    </tr>\n",
       "  </tbody>\n",
       "</table>\n",
       "</div>"
      ],
      "text/plain": [
       "                   feature_name  importance\n",
       "248            total_gold_ratio   12.376007\n",
       "249              total_xp_ratio    6.476346\n",
       "247            diff_tower_kills    2.574544\n",
       "149                  d2_hero_id    1.231482\n",
       "246            dire_tower_kills    1.166449\n",
       "101                  r5_hero_id    1.096733\n",
       "183                 d3_max_mana    1.081994\n",
       "77                   r4_hero_id    1.064837\n",
       "53                   r3_hero_id    1.051830\n",
       "173                  d3_hero_id    1.023840\n",
       "109                   r5_health    1.011387\n",
       "221                  d5_hero_id    1.008235\n",
       "125                  d1_hero_id    0.976889\n",
       "181                   d3_health    0.975797\n",
       "197                  d4_hero_id    0.955869\n",
       "5                    r1_hero_id    0.926986\n",
       "245         radiant_tower_kills    0.814636\n",
       "120  r5_teamfight_participation    0.804753\n",
       "210                        d4_y    0.799093\n",
       "133                   d1_health    0.795358\n",
       "205                   d4_health    0.782024\n",
       "185                        d3_x    0.760159\n",
       "159                 d2_max_mana    0.753604\n",
       "86                r4_max_health    0.749680\n",
       "135                 d1_max_mana    0.746288\n",
       "207                 d4_max_mana    0.739891\n",
       "157                   d2_health    0.731751\n",
       "179                       d3_lh    0.708996\n",
       "61                    r3_health    0.708118\n",
       "87                  r4_max_mana    0.666454"
      ]
     },
     "execution_count": 17,
     "metadata": {},
     "output_type": "execute_result"
    }
   ],
   "source": [
    "%%time\n",
    "cat_params = {\n",
    "    'cat_features': [1, 2]\n",
    "}\n",
    "\n",
    "cb_holdout_score, cv_score, cb_coefs = train_model(X_train, y_train, model_type='cb', params=cat_params)\n",
    "cb_coefs.head(30)"
   ]
  },
  {
   "cell_type": "code",
   "execution_count": 18,
   "metadata": {},
   "outputs": [],
   "source": [
    "model = CatBoostClassifier(random_seed=1, silent=True, cat_features=[1, 2])\n",
    "model.fit(X_train, y_train);\n",
    "prediction = model.predict_proba(X_test)[:, 1] "
   ]
  },
  {
   "cell_type": "code",
   "execution_count": 19,
   "metadata": {},
   "outputs": [],
   "source": [
    "write_to_submission_file(prediction, './first.csv')"
   ]
  }
 ],
 "metadata": {
  "kernelspec": {
   "display_name": "Python 3",
   "language": "python",
   "name": "python3"
  },
  "language_info": {
   "codemirror_mode": {
    "name": "ipython",
    "version": 3
   },
   "file_extension": ".py",
   "mimetype": "text/x-python",
   "name": "python",
   "nbconvert_exporter": "python",
   "pygments_lexer": "ipython3",
   "version": "3.7.3"
  }
 },
 "nbformat": 4,
 "nbformat_minor": 2
}
