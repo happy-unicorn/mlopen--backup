{
 "cells": [
  {
   "cell_type": "code",
   "execution_count": 4,
   "metadata": {},
   "outputs": [],
   "source": [
    "def fun(n):\n",
    "    return ((n + 1) * (5 * n + 4) * (5 * n + 3) * (5 * n + 2) * (5 * n + 1) * (5 * n)) / ((3 * n + 4) ** 2 * (3 * n + 3) ** 2 * (3 * n + 2) ** 2) "
   ]
  },
  {
   "cell_type": "code",
   "execution_count": 9,
   "metadata": {},
   "outputs": [
    {
     "data": {
      "text/plain": [
       "4.286694101508917"
      ]
     },
     "execution_count": 9,
     "metadata": {},
     "output_type": "execute_result"
    }
   ],
   "source": [
    "fun(100000000000000000)"
   ]
  },
  {
   "cell_type": "code",
   "execution_count": 2,
   "metadata": {},
   "outputs": [
    {
     "data": {
      "text/plain": [
       "0.24999468760234428"
      ]
     },
     "execution_count": 2,
     "metadata": {},
     "output_type": "execute_result"
    }
   ],
   "source": [
    "summ = 0\n",
    "n = 100001\n",
    "for i in range(1, n):\n",
    "    summ += n/(n+3*i)**2\n",
    "    \n",
    "summ"
   ]
  },
  {
   "cell_type": "code",
   "execution_count": 13,
   "metadata": {},
   "outputs": [],
   "source": [
    "import numpy as np \n",
    "\n",
    "\n",
    "def f1(x):\n",
    "    return (x)**(1/3)*(np.sin(1/(2*x-1)))**2\n",
    "\n",
    "\n",
    "def f2(x):\n",
    "    return 1 - np.cos(np.pi/x)\n",
    "\n",
    "\n",
    "def f3(x):\n",
    "    return np.arctan(x)/(2*x**2-1)\n",
    "\n",
    "\n",
    "def f4(x):\n",
    "    return np.log(x)/(3*x-1)\n",
    "\n",
    "\n",
    "def f5(x):\n",
    "    return np.e**(1/x)-1"
   ]
  },
  {
   "cell_type": "code",
   "execution_count": 14,
   "metadata": {},
   "outputs": [],
   "source": [
    "def r(n):\n",
    "    summ = [0, 0, 0, 0, 0]\n",
    "\n",
    "    for i in range(1, n):\n",
    "        summ[0] += f1(i) \n",
    "        summ[1] += f2(i)\n",
    "        summ[2] += f3(i)\n",
    "        summ[3] += f4(i)\n",
    "        summ[4] += f5(i)\n",
    "    \n",
    "    return summ"
   ]
  },
  {
   "cell_type": "code",
   "execution_count": 15,
   "metadata": {},
   "outputs": [
    {
     "data": {
      "text/plain": [
       "[1.0788979524614446,\n",
       " 4.8657816928256175,\n",
       " 1.222018929886699,\n",
       " 8.039043898119056,\n",
       " 8.562159256612224]"
      ]
     },
     "execution_count": 15,
     "metadata": {},
     "output_type": "execute_result"
    }
   ],
   "source": [
    "r(1000)"
   ]
  },
  {
   "cell_type": "code",
   "execution_count": 16,
   "metadata": {},
   "outputs": [
    {
     "data": {
      "text/plain": [
       "[1.082476643827601,\n",
       " 4.870669613625852,\n",
       " 1.222796616765149,\n",
       " 22.179436385167055,\n",
       " 13.168319859405651]"
      ]
     },
     "execution_count": 16,
     "metadata": {},
     "output_type": "execute_result"
    }
   ],
   "source": [
    "r(100000)"
   ]
  },
  {
   "cell_type": "code",
   "execution_count": 1,
   "metadata": {},
   "outputs": [],
   "source": [
    "import pandas as pd\n",
    "import numpy as np"
   ]
  },
  {
   "cell_type": "code",
   "execution_count": 62,
   "metadata": {},
   "outputs": [
    {
     "data": {
      "text/plain": [
       "array([[ 7. ,  7.4],\n",
       "       [ 8. ,  8.4],\n",
       "       [ 9. ,  9.1],\n",
       "       [10. ,  9.4],\n",
       "       [11. ,  9.5],\n",
       "       [12. ,  9.5],\n",
       "       [13. ,  9.4]])"
      ]
     },
     "execution_count": 62,
     "metadata": {},
     "output_type": "execute_result"
    }
   ],
   "source": [
    "data = np.array([[7, 8, 9, 10, 11, 12, 13], [7.4, 8.4, 9.1, 9.4, 9.5, 9.5, 9.4]]).T\n",
    "summ = np.zeros((3, 4))\n",
    "data"
   ]
  },
  {
   "cell_type": "code",
   "execution_count": 63,
   "metadata": {},
   "outputs": [
    {
     "data": {
      "text/plain": [
       "array([[7.0000e+00, 7.0000e+01, 7.2800e+02, 6.2700e+01],\n",
       "       [7.0000e+01, 7.2800e+02, 7.8400e+03, 6.3560e+02],\n",
       "       [7.2800e+02, 7.8400e+03, 8.6996e+04, 6.6834e+03]])"
      ]
     },
     "execution_count": 63,
     "metadata": {},
     "output_type": "execute_result"
    }
   ],
   "source": [
    "for index, row  in enumerate(data):\n",
    "    summ[0][0] += 1\n",
    "    summ[0][1] += row[0] \n",
    "    summ[0][2] += row[0] ** 2\n",
    "    summ[1][0] += row[0]\n",
    "    summ[1][1] += row[0] ** 2\n",
    "    summ[1][2] += row[0] ** 3\n",
    "    summ[2][0] += row[0] ** 2\n",
    "    summ[2][1] += row[0] ** 3\n",
    "    summ[2][2] += row[0] ** 4\n",
    "    summ[0][3] += row[1]\n",
    "    summ[1][3] += row[0] * row[1]\n",
    "    summ[2][3] += row[0] ** 2 * row[1]\n",
    "\n",
    "summ"
   ]
  },
  {
   "cell_type": "code",
   "execution_count": 64,
   "metadata": {},
   "outputs": [
    {
     "data": {
      "text/plain": [
       "(array([[7.0000e+00, 7.0000e+01, 7.2800e+02],\n",
       "        [7.0000e+01, 7.2800e+02, 7.8400e+03],\n",
       "        [7.2800e+02, 7.8400e+03, 8.6996e+04]]),\n",
       " array([  62.7,  635.6, 6683.4]))"
      ]
     },
     "execution_count": 64,
     "metadata": {},
     "output_type": "execute_result"
    }
   ],
   "source": [
    "matrix, answers = summ[:, :3], summ[:, 3]\n",
    "matrix, answers"
   ]
  },
  {
   "cell_type": "code",
   "execution_count": 65,
   "metadata": {},
   "outputs": [
    {
     "data": {
      "text/plain": [
       "array([-4.85714286,  2.5452381 , -0.11190476])"
      ]
     },
     "execution_count": 65,
     "metadata": {},
     "output_type": "execute_result"
    }
   ],
   "source": [
    "np.linalg.solve(matrix, answers)"
   ]
  },
  {
   "cell_type": "code",
   "execution_count": null,
   "metadata": {},
   "outputs": [],
   "source": [
    "tmp = 0\n",
    "for i, row in enumerate(data):\n",
    "    tmp += r[0]+row[0]+row[0]**2-row[1]"
   ]
  },
  {
   "cell_type": "code",
   "execution_count": null,
   "metadata": {},
   "outputs": [],
   "source": [
    "for i, row in enumerate(data):\n",
    "    "
   ]
  }
 ],
 "metadata": {
  "kernelspec": {
   "display_name": "Python 3",
   "language": "python",
   "name": "python3"
  },
  "language_info": {
   "codemirror_mode": {
    "name": "ipython",
    "version": 3
   },
   "file_extension": ".py",
   "mimetype": "text/x-python",
   "name": "python",
   "nbconvert_exporter": "python",
   "pygments_lexer": "ipython3",
   "version": "3.7.3"
  }
 },
 "nbformat": 4,
 "nbformat_minor": 2
}
