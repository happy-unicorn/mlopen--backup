{
 "cells": [
  {
   "cell_type": "code",
   "execution_count": 42,
   "metadata": {},
   "outputs": [],
   "source": [
    "import numpy as np\n",
    "import pandas as pd\n",
    "import scipy as spc\n",
    "import seaborn as sns\n",
    "from matplotlib import pyplot as plt\n",
    "from numpy import linalg as lg"
   ]
  },
  {
   "cell_type": "code",
   "execution_count": 17,
   "metadata": {},
   "outputs": [
    {
     "name": "stdout",
     "output_type": "stream",
     "text": [
      "5 3\n",
      "1 0 1.96\n",
      "1 0.693 3.325\n",
      "1 1.098 4.128\n",
      "1 1.386 4.700\n",
      "1 1.609 5.081\n",
      "1.969065635523694 1.953337196485903\n"
     ]
    }
   ],
   "source": [
    "def dot(coefs, roots):\n",
    "    return sum(c * r for c, r in zip(coefs, roots))   \n",
    "\n",
    "\n",
    "def enter_data():\n",
    "    rows, columns = [int(i) for i in input().split()]\n",
    "    return [[float(number) for number in input().split()] for _ in range(rows)]\n",
    "\n",
    "\n",
    "def make_trian(matrix):\n",
    "    pos = [0 for _ in range(len(matrix))]\n",
    "    for i, row in enumerate(matrix):\n",
    "        for elem in row:\n",
    "            if elem == 0:\n",
    "                pos[i] += 1\n",
    "            else:\n",
    "                break\n",
    "    return [x for _, x in sorted(zip(pos, matrix))]\n",
    "\n",
    "\n",
    "def direct_method(reс_matrix):\n",
    "    reс_matrix = make_trian(reс_matrix)\n",
    "    for i in range(len(reс_matrix[:-1])):\n",
    "        s = 0\n",
    "        for elem in reс_matrix[i][:-1]:\n",
    "            if abs(elem) <= 0.000001:\n",
    "                s += 1\n",
    "            else:\n",
    "                break\n",
    "        if s == len(reс_matrix[i][:-1]):\n",
    "            break\n",
    "        for j in range(len(reс_matrix[i + 1:])):\n",
    "            j += i + 1\n",
    "            factor = -(reс_matrix[j][s]/reс_matrix[i][s])\n",
    "            for m in range(i, len(reс_matrix[0])):\n",
    "                reс_matrix[j][m] += factor * reс_matrix[i][m]\n",
    "                \n",
    "        reс_matrix = make_trian(reс_matrix)\n",
    "    return reс_matrix \n",
    "\n",
    "\n",
    "def reverse_method(trian_matrix):\n",
    "    roots = []\n",
    "    for i in range(len(trian_matrix) - 1, -1, -1):\n",
    "        root = (trian_matrix[i][-1] - dot(roots, trian_matrix[i][i + 1:-1])) / trian_matrix[i][i]\n",
    "        roots.insert(0, root)\n",
    "    return roots\n",
    "        \n",
    "\n",
    "def check_status(rec_matrix):\n",
    "    for row in rec_matrix:\n",
    "        c = 0\n",
    "        for element in row[:-1]:\n",
    "            if abs(element) <= 0.000001:\n",
    "                c += 1\n",
    "        if c == len(row) - 1 and abs(row[-1]) > 0:\n",
    "            return 0   \n",
    "    if len(rec_matrix) < len(rec_matrix[0][:-1]):\n",
    "        return 2\n",
    "    return 1\n",
    "\n",
    "\n",
    "def delete_zeros_rows(matrix):\n",
    "    for index, row in enumerate(matrix):\n",
    "        if sum([abs(i) for i in row]) == 0:\n",
    "            matrix = matrix[:index]\n",
    "            break\n",
    "    return matrix\n",
    "    \n",
    "\n",
    "def mnk(matrix):\n",
    "    matrix = np.array(matrix)\n",
    "    result = []\n",
    "    for i in range(len(matrix[0, :-1])):\n",
    "        tmp = []\n",
    "        for j in range(len(matrix[0])):\n",
    "            tmp.append(dot(matrix[:, i], matrix[:, j]))\n",
    "        result.append(tmp)\n",
    "    return result\n",
    "    \n",
    "    \n",
    "def gauss_mnk_method():\n",
    "    eq_sys = enter_data()\n",
    "    dot_matrix = mnk(eq_sys)\n",
    "    trian_matrix = direct_method(dot_matrix)\n",
    "    trian_matrix = delete_zeros_rows(trian_matrix)\n",
    "    status = check_status(trian_matrix)\n",
    "    roots = reverse_method(trian_matrix)\n",
    "    print(' '.join([str(i) for i in roots]))\n",
    "    \n",
    "\n",
    "if __name__ == '__main__':\n",
    "    gauss_mnk_method()"
   ]
  },
  {
   "cell_type": "code",
   "execution_count": 37,
   "metadata": {},
   "outputs": [
    {
     "data": {
      "text/plain": [
       "7.163979592123005"
      ]
     },
     "execution_count": 37,
     "metadata": {},
     "output_type": "execute_result"
    }
   ],
   "source": [
    "A = np.e ** 1.969065635523694\n",
    "A"
   ]
  },
  {
   "cell_type": "code",
   "execution_count": 38,
   "metadata": {},
   "outputs": [
    {
     "data": {
      "text/plain": [
       "1.953337196485903"
      ]
     },
     "execution_count": 38,
     "metadata": {},
     "output_type": "execute_result"
    }
   ],
   "source": [
    "q = 1.953337196485903\n",
    "q"
   ]
  },
  {
   "cell_type": "code",
   "execution_count": 39,
   "metadata": {},
   "outputs": [
    {
     "data": {
      "text/plain": [
       "<matplotlib.collections.PathCollection at 0x7f480236add8>"
      ]
     },
     "execution_count": 39,
     "metadata": {},
     "output_type": "execute_result"
    },
    {
     "data": {
      "image/png": "[encoded data removed]",
      "text/plain": [
       "<Figure size 432x288 with 1 Axes>"
      ]
     },
     "metadata": {
      "needs_background": "light"
     },
     "output_type": "display_data"
    }
   ],
   "source": [
    "x = np.linspace(0, 6, 100)\n",
    "plt.plot(x,np.vectorize(lambda x: A * x ** q)(x))\n",
    "plt.scatter([1, 2, 3, 4, 5], [7.1, 27.8, 62.1, 110, 161])"
   ]
  },
  {
   "cell_type": "code",
   "execution_count": 44,
   "metadata": {},
   "outputs": [],
   "source": [
    "def test(x):\n",
    "    return np.sin(x)\n",
    "    \n",
    "    \n",
    "def create_A_b_matrix(dots, power, func=test):\n",
    "    A, b = [], []\n",
    "    for dot in dots:\n",
    "        A.append([dot ** n for n in range(power + 1)])\n",
    "        b.append(func(dot))\n",
    "    return np.array(A), np.array(b)\n",
    "\n",
    "\n",
    "def solve(A, b):\n",
    "    return lg.solve(A, b)\n",
    "\n",
    "\n",
    "def make_visualization(w, power, r=np.linspace(0, 1, 100)):\n",
    "    plt.plot(r, np.vectorize(test)(r))\n",
    "    plt.plot(r, np.vectorize(lambda x: np.dot(w, [x ** n for n in range(power + 1)]))(r))\n",
    "    \n",
    "    \n",
    "def epoch(dots, power):\n",
    "    A, b = create_A_b_matrix(dots, power)\n",
    "    w = solve(A, b)\n",
    "    make_visualization(w, power)"
   ]
  },
  {
   "cell_type": "code",
   "execution_count": 47,
   "metadata": {},
   "outputs": [
    {
     "data": {
      "image/png": "[encoded data removed]",
      "text/plain": [
       "<Figure size 432x288 with 1 Axes>"
      ]
     },
     "metadata": {
      "needs_background": "light"
     },
     "output_type": "display_data"
    }
   ],
   "source": [
    "epoch([0, 0.3333, 0.6666, 1], 3)"
   ]
  }
 ],
 "metadata": {
  "kernelspec": {
   "display_name": "Python 3",
   "language": "python",
   "name": "python3"
  },
  "language_info": {
   "codemirror_mode": {
    "name": "ipython",
    "version": 3
   },
   "file_extension": ".py",
   "mimetype": "text/x-python",
   "name": "python",
   "nbconvert_exporter": "python",
   "pygments_lexer": "ipython3",
   "version": "3.7.3"
  }
 },
 "nbformat": 4,
 "nbformat_minor": 2
}
