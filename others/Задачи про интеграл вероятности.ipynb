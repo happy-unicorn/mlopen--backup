{
 "cells": [
  {
   "cell_type": "code",
   "execution_count": 1,
   "metadata": {},
   "outputs": [],
   "source": [
    "import numpy as np\n",
    "import pandas as pd\n",
    "from matplotlib import pyplot as plt\n",
    "import seaborn as sns\n",
    "import scipy as scp"
   ]
  },
  {
   "cell_type": "code",
   "execution_count": 10,
   "metadata": {},
   "outputs": [],
   "source": [
    "def ver(s, m, inter=(0,1)):\n",
    "    start, finish = inter\n",
    "    return 0.5 * (scp.special.erf((finish - m) / (s * np.sqrt(2))) - scp.special.erf((start - m) / (s * np.sqrt(2))))"
   ]
  },
  {
   "cell_type": "code",
   "execution_count": 2,
   "metadata": {},
   "outputs": [
    {
     "data": {
      "text/plain": [
       "0.04405706932067888"
      ]
     },
     "execution_count": 2,
     "metadata": {},
     "output_type": "execute_result"
    }
   ],
   "source": [
    "0.5 * (scp.special.erf((160) / (80 * np.sqrt(2))) - scp.special.erf((120) / (80 * np.sqrt(2))))"
   ]
  },
  {
   "cell_type": "code",
   "execution_count": 3,
   "metadata": {},
   "outputs": [
    {
     "data": {
      "text/plain": [
       "0.34"
      ]
     },
     "execution_count": 3,
     "metadata": {},
     "output_type": "execute_result"
    }
   ],
   "source": [
    "round(0.5 * (scp.special.erf(1 / (np.sqrt(2))) - scp.special.erf(0 / (np.sqrt(2)))), 2)"
   ]
  },
  {
   "cell_type": "code",
   "execution_count": 4,
   "metadata": {},
   "outputs": [
    {
     "data": {
      "text/plain": [
       "0.14"
      ]
     },
     "execution_count": 4,
     "metadata": {},
     "output_type": "execute_result"
    }
   ],
   "source": [
    "round(0.5 * (scp.special.erf(2 / (np.sqrt(2))) - scp.special.erf(1 / (np.sqrt(2)))), 2)"
   ]
  },
  {
   "cell_type": "code",
   "execution_count": 5,
   "metadata": {},
   "outputs": [
    {
     "data": {
      "text/plain": [
       "0.02"
      ]
     },
     "execution_count": 5,
     "metadata": {},
     "output_type": "execute_result"
    }
   ],
   "source": [
    "round(0.5 * (scp.special.erf(3 / (np.sqrt(2))) - scp.special.erf(2 / (np.sqrt(2)))), 2)"
   ]
  },
  {
   "cell_type": "code",
   "execution_count": 6,
   "metadata": {},
   "outputs": [
    {
     "data": {
      "text/plain": [
       "0.0"
      ]
     },
     "execution_count": 6,
     "metadata": {},
     "output_type": "execute_result"
    }
   ],
   "source": [
    "0.5 * (scp.special.erf((0.16 - 50) / (0.4 * np.sqrt(2))) - scp.special.erf((- 0.16 - 50) / (0.4 * np.sqrt(2))))"
   ]
  },
  {
   "cell_type": "code",
   "execution_count": 11,
   "metadata": {},
   "outputs": [
    {
     "data": {
      "text/plain": [
       "0.01837990426996438"
      ]
     },
     "execution_count": 11,
     "metadata": {},
     "output_type": "execute_result"
    }
   ],
   "source": [
    "ver(0.5, 2.2, (3, 4)) * ver(0.5, 2.2, (1, 2))"
   ]
  },
  {
   "cell_type": "code",
   "execution_count": 31,
   "metadata": {},
   "outputs": [
    {
     "data": {
      "text/plain": [
       "0.8001753426676147"
      ]
     },
     "execution_count": 31,
     "metadata": {},
     "output_type": "execute_result"
    }
   ],
   "source": [
    "ver(0.156, 10, (9.8, 10.2))"
   ]
  },
  {
   "cell_type": "code",
   "execution_count": 45,
   "metadata": {},
   "outputs": [
    {
     "data": {
      "text/plain": [
       "(1.1500000000000004, 3.4000000000000004)"
      ]
     },
     "execution_count": 45,
     "metadata": {},
     "output_type": "execute_result"
    }
   ],
   "source": [
    "def pre(x):\n",
    "    return (x - 10) / 10\n",
    "\n",
    "\n",
    "def puas(n, n_mean):\n",
    "    return (n_mean ** n) / np.math.factorial(n) * np.exp(-n_mean)\n",
    "    \n",
    "\n",
    "x = np.array([10, 20, 30, 40, 50])\n",
    "p = np.array([0.2, 0.3, 0.35, 0.1, 0.05])\n",
    "n = np.array([pre(i) for i in x])\n",
    "\n",
    "x_mean = 0\n",
    "for i in range(5):\n",
    "    x_mean += x[i] * p[i]\n",
    "    \n",
    "n_mean = pre(x_mean)\n",
    "\n",
    "pu = []\n",
    "for i in n:\n",
    "    pu.append(puas(i, n_mean))\n",
    "    \n",
    "hi = 0    \n",
    "for i in range(5):\n",
    "    hi += (p[i] - pu[i]) ** 2\n",
    "\n",
    "ns = 0\n",
    "for i in range(5):\n",
    "    ns += n[i] ** 2 * p[i]\n",
    "\n",
    "dis = ns - n_mean ** 2\n",
    "dis, ns"
   ]
  }
 ],
 "metadata": {
  "kernelspec": {
   "display_name": "Python 3",
   "language": "python",
   "name": "python3"
  },
  "language_info": {
   "codemirror_mode": {
    "name": "ipython",
    "version": 3
   },
   "file_extension": ".py",
   "mimetype": "text/x-python",
   "name": "python",
   "nbconvert_exporter": "python",
   "pygments_lexer": "ipython3",
   "version": "3.7.3"
  }
 },
 "nbformat": 4,
 "nbformat_minor": 2
}
