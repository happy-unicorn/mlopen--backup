{
 "cells": [
  {
   "cell_type": "code",
   "execution_count": 14,
   "metadata": {},
   "outputs": [
    {
     "data": {
      "text/plain": [
       "Set: dict_keys([5])"
      ]
     },
     "execution_count": 14,
     "metadata": {},
     "output_type": "execute_result"
    }
   ],
   "source": [
    "class Set:\n",
    "    def __init__(self, values=None):\n",
    "        self.dict = {}\n",
    "        \n",
    "        if values is not None:\n",
    "            for value in values:\n",
    "                self.add(value)\n",
    "                \n",
    "    def __repr__(self):\n",
    "        return 'Set: ' + str(self.dict.keys())\n",
    "    \n",
    "    def add(self, value):\n",
    "        self.dict[value] = True\n",
    "        return self\n",
    "        \n",
    "    def contains(self, value):\n",
    "        return value in self.dict\n",
    "    \n",
    "    def remove(self, value):\n",
    "        del self.dict[value]\n",
    "        return self\n",
    "        \n",
    "        \n",
    "s = Set()\n",
    "s.add(5).add(8).remove(8)"
   ]
  },
  {
   "cell_type": "code",
   "execution_count": 15,
   "metadata": {},
   "outputs": [
    {
     "data": {
      "text/plain": [
       "Set: dict_keys([5, 6])"
      ]
     },
     "execution_count": 15,
     "metadata": {},
     "output_type": "execute_result"
    }
   ],
   "source": [
    "s.add(6)"
   ]
  },
  {
   "cell_type": "code",
   "execution_count": null,
   "metadata": {},
   "outputs": [],
   "source": []
  }
 ],
 "metadata": {
  "kernelspec": {
   "display_name": "Python 3",
   "language": "python",
   "name": "python3"
  },
  "language_info": {
   "codemirror_mode": {
    "name": "ipython",
    "version": 3
   },
   "file_extension": ".py",
   "mimetype": "text/x-python",
   "name": "python",
   "nbconvert_exporter": "python",
   "pygments_lexer": "ipython3",
   "version": "3.7.3"
  }
 },
 "nbformat": 4,
 "nbformat_minor": 2
}
